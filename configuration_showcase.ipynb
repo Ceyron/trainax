{
 "cells": [
  {
   "cell_type": "markdown",
   "metadata": {},
   "source": [
    "# Configuration Showcase\n",
    "\n",
    "This notebook serves as a showcase how the different configurations available in\n",
    "`Trainax` can be depicted schematically."
   ]
  },
  {
   "cell_type": "code",
   "execution_count": 6,
   "metadata": {},
   "outputs": [],
   "source": [
    "import jax.numpy as jnp\n",
    "\n",
    "import trainax as tx"
   ]
  },
  {
   "cell_type": "markdown",
   "metadata": {},
   "source": [
    "## Supervised\n",
    "\n",
    "A supervised configuration is special because all data can be pre-computed. No\n",
    "`ref_stepper` or `residuum_fn` is needed on the fly (and hence also does not\n",
    "have to be differentiable)."
   ]
  },
  {
   "cell_type": "markdown",
   "metadata": {},
   "source": [
    "### One-Step supervised\n",
    "\n",
    "<p align=\"center\">\n",
    "    <img src=\"https://ceyron.github.io/predictor-learning-setups/sup-1-none-true-primal.svg\" width=\"400\">\n",
    "</p>"
   ]
  },
  {
   "cell_type": "code",
   "execution_count": 3,
   "metadata": {},
   "outputs": [
    {
     "data": {
      "text/plain": [
       "Supervised(\n",
       "  num_rollout_steps=1,\n",
       "  time_level_loss=MSELoss(batch_reduction=<function mean>),\n",
       "  cut_bptt=False,\n",
       "  cut_bptt_every=1,\n",
       "  time_level_weights=f32[1]\n",
       ")"
      ]
     },
     "execution_count": 3,
     "metadata": {},
     "output_type": "execute_result"
    }
   ],
   "source": [
    "# The default is one-step supervised learning\n",
    "tx.configuration.Supervised()"
   ]
  },
  {
   "cell_type": "markdown",
   "metadata": {},
   "source": [
    "### Two-Step supervised (rollout) Training\n",
    "\n",
    "<p align=\"center\">\n",
    "    <img src=\"https://ceyron.github.io/predictor-learning-setups/sup-2-none-true-primal.svg\" width=\"400\">\n",
    "</p>\n",
    "\n",
    "We roll out the neural emulator for two autoregressive steps. Its parameters are\n",
    "shared between the two predictions. Similarly, the `ref_stepper` is used to\n",
    "create the reference trajectory; the loss is aggregated as a sum over the two\n",
    "time levels."
   ]
  },
  {
   "cell_type": "code",
   "execution_count": 4,
   "metadata": {},
   "outputs": [
    {
     "data": {
      "text/plain": [
       "Supervised(\n",
       "  num_rollout_steps=2,\n",
       "  time_level_loss=MSELoss(batch_reduction=<function mean>),\n",
       "  cut_bptt=False,\n",
       "  cut_bptt_every=1,\n",
       "  time_level_weights=f32[2]\n",
       ")"
      ]
     },
     "execution_count": 4,
     "metadata": {},
     "output_type": "execute_result"
    }
   ],
   "source": [
    "tx.configuration.Supervised(num_rollout_steps=2)"
   ]
  },
  {
   "cell_type": "markdown",
   "metadata": {},
   "source": [
    "### Three-Step supervised (rollout) Training\n",
    "\n",
    "<p align=\"center\">\n",
    "    <img src=\"https://ceyron.github.io/predictor-learning-setups/sup-3-none-true-primal.svg\" width=\"400\">\n",
    "</p>\n",
    "\n",
    "Same idead as above but with an additional rollout step."
   ]
  },
  {
   "cell_type": "code",
   "execution_count": 5,
   "metadata": {},
   "outputs": [
    {
     "data": {
      "text/plain": [
       "Supervised(\n",
       "  num_rollout_steps=3,\n",
       "  time_level_loss=MSELoss(batch_reduction=<function mean>),\n",
       "  cut_bptt=False,\n",
       "  cut_bptt_every=1,\n",
       "  time_level_weights=f32[3]\n",
       ")"
      ]
     },
     "execution_count": 5,
     "metadata": {},
     "output_type": "execute_result"
    }
   ],
   "source": [
    "tx.configuration.Supervised(num_rollout_steps=3)"
   ]
  },
  {
   "cell_type": "markdown",
   "metadata": {},
   "source": [
    "### Three-Step supervised (rollout) Training with loss only at final state\n",
    "\n",
    "<p align=\"center\">\n",
    "    <img src=\"https://ceyron.github.io/predictor-learning-setups/sup-3-none-false-primal.svg\" width=\"400\">\n",
    "</p>\n",
    "\n",
    "The loss is only taken from the last step. Essentially, this corresponds to\n",
    "weighting the time levels with $[0, 0, 1]$, respectively. (More weighting\n",
    "options are possible, of course.)"
   ]
  },
  {
   "cell_type": "code",
   "execution_count": 7,
   "metadata": {},
   "outputs": [
    {
     "data": {
      "text/plain": [
       "Supervised(\n",
       "  num_rollout_steps=3,\n",
       "  time_level_loss=MSELoss(batch_reduction=<function mean>),\n",
       "  cut_bptt=False,\n",
       "  cut_bptt_every=1,\n",
       "  time_level_weights=f32[3]\n",
       ")"
      ]
     },
     "execution_count": 7,
     "metadata": {},
     "output_type": "execute_result"
    }
   ],
   "source": [
    "tx.configuration.Supervised(\n",
    "    num_rollout_steps=3, time_level_weights=jnp.array([0.0, 0.0, 1.0])\n",
    ")"
   ]
  },
  {
   "cell_type": "markdown",
   "metadata": {},
   "source": [
    "### Three-Step supervised (rollout) Training with no backpropagation through time\n",
    "\n",
    "(Displays the primal evaluation together with the cotangent flow; grey dashed\n",
    "line indicates a cutted gradient.)\n",
    "\n",
    "<p align=\"center\">\n",
    "    <img src=\"https://fkoehler.site/predictor-learning-setups/sup-3-none-true-no_net_bptt.svg\" width=\"400\">\n",
    "</p>\n",
    "\n",
    "This interrupts a gradient flow backward over the autoregressive network\n",
    "execution. Gradients can still flow into the parameter space."
   ]
  },
  {
   "cell_type": "code",
   "execution_count": 8,
   "metadata": {},
   "outputs": [
    {
     "data": {
      "text/plain": [
       "Supervised(\n",
       "  num_rollout_steps=3,\n",
       "  time_level_loss=MSELoss(batch_reduction=<function mean>),\n",
       "  cut_bptt=True,\n",
       "  cut_bptt_every=1,\n",
       "  time_level_weights=f32[3]\n",
       ")"
      ]
     },
     "execution_count": 8,
     "metadata": {},
     "output_type": "execute_result"
    }
   ],
   "source": [
    "tx.configuration.Supervised(num_rollout_steps=3, cut_bptt=True)"
   ]
  },
  {
   "cell_type": "markdown",
   "metadata": {},
   "source": [
    "### Four Steps supervised (rollout) Training with sparse backpropagation through time\n",
    "\n",
    "<p align=\"center\">\n",
    "    <img src=\"https://fkoehler.site/predictor-learning-setups/sup-4-none-true-cut_every_2_net_bptt.svg\" width=\"700\">\n",
    "</p>\n",
    "\n",
    "Only every second backpropagation step is allowed to flow through the network."
   ]
  },
  {
   "cell_type": "code",
   "execution_count": 9,
   "metadata": {},
   "outputs": [
    {
     "data": {
      "text/plain": [
       "Supervised(\n",
       "  num_rollout_steps=4,\n",
       "  time_level_loss=MSELoss(batch_reduction=<function mean>),\n",
       "  cut_bptt=True,\n",
       "  cut_bptt_every=2,\n",
       "  time_level_weights=f32[4]\n",
       ")"
      ]
     },
     "execution_count": 9,
     "metadata": {},
     "output_type": "execute_result"
    }
   ],
   "source": [
    "tx.configuration.Supervised(num_rollout_steps=4, cut_bptt=True, cut_bptt_every=2)"
   ]
  },
  {
   "cell_type": "markdown",
   "metadata": {},
   "source": [
    "## Diverted Chain"
   ]
  },
  {
   "cell_type": "markdown",
   "metadata": {},
   "source": [
    "### Two-Steps with branch length one\n",
    "\n",
    "<p align=\"center\">\n",
    "    <img src=\"https://fkoehler.site/predictor-learning-setups/div-2-1-true-primal.svg\" width=\"500\">\n",
    "</p>\n",
    "\n",
    "The `ref_stepper` is not run autoregressively for two steps from the initial\n",
    "condition but rather for one step, branching off from the main chain created by\n",
    "the emulator."
   ]
  },
  {
   "cell_type": "code",
   "execution_count": 10,
   "metadata": {},
   "outputs": [
    {
     "data": {
      "text/plain": [
       "DivertedChainBranchOne(\n",
       "  num_rollout_steps=2,\n",
       "  time_level_loss=MSELoss(batch_reduction=<function mean>),\n",
       "  cut_bptt=False,\n",
       "  cut_bptt_every=1,\n",
       "  cut_div_chain=False,\n",
       "  time_level_weights=f32[2]\n",
       ")"
      ]
     },
     "execution_count": 10,
     "metadata": {},
     "output_type": "execute_result"
    }
   ],
   "source": [
    "# `num_rollout_steps` referse to the number of autoregressive steps performed by\n",
    "# the neural emulator\n",
    "tx.configuration.DivertedChainBranchOne(num_rollout_steps=2)"
   ]
  },
  {
   "cell_type": "code",
   "execution_count": 11,
   "metadata": {},
   "outputs": [
    {
     "data": {
      "text/plain": [
       "DivertedChain(\n",
       "  num_rollout_steps=2,\n",
       "  num_branch_steps=1,\n",
       "  time_level_loss=MSELoss(batch_reduction=<function mean>),\n",
       "  cut_bptt=False,\n",
       "  cut_bptt_every=1,\n",
       "  cut_div_chain=False,\n",
       "  time_level_weights=f32[2],\n",
       "  branch_level_weights=f32[1]\n",
       ")"
      ]
     },
     "execution_count": 11,
     "metadata": {},
     "output_type": "execute_result"
    }
   ],
   "source": [
    "# Alternatively, the general interface can be used\n",
    "tx.configuration.DivertedChain(num_rollout_steps=2, num_branch_steps=1)"
   ]
  },
  {
   "cell_type": "markdown",
   "metadata": {},
   "source": [
    "### Three-steps with branch length one\n",
    "\n",
    "<p align=\"center\">\n",
    "    <img src=\"https://fkoehler.site/predictor-learning-setups/div-3-1-true-primal.svg\" width=\"600\">\n",
    "</p>"
   ]
  },
  {
   "cell_type": "code",
   "execution_count": 12,
   "metadata": {},
   "outputs": [
    {
     "data": {
      "text/plain": [
       "DivertedChainBranchOne(\n",
       "  num_rollout_steps=3,\n",
       "  time_level_loss=MSELoss(batch_reduction=<function mean>),\n",
       "  cut_bptt=False,\n",
       "  cut_bptt_every=1,\n",
       "  cut_div_chain=False,\n",
       "  time_level_weights=f32[3]\n",
       ")"
      ]
     },
     "execution_count": 12,
     "metadata": {},
     "output_type": "execute_result"
    }
   ],
   "source": [
    "tx.configuration.DivertedChainBranchOne(num_rollout_steps=3)"
   ]
  },
  {
   "cell_type": "markdown",
   "metadata": {},
   "source": [
    "### Four-steps with branch length one\n",
    "\n",
    "<p align=\"center\">\n",
    "    <img src=\"https://fkoehler.site/predictor-learning-setups/div-4-1-true-primal.svg\" width=\"700\">\n",
    "</p>"
   ]
  },
  {
   "cell_type": "code",
   "execution_count": 13,
   "metadata": {},
   "outputs": [
    {
     "data": {
      "text/plain": [
       "DivertedChainBranchOne(\n",
       "  num_rollout_steps=4,\n",
       "  time_level_loss=MSELoss(batch_reduction=<function mean>),\n",
       "  cut_bptt=False,\n",
       "  cut_bptt_every=1,\n",
       "  cut_div_chain=False,\n",
       "  time_level_weights=f32[4]\n",
       ")"
      ]
     },
     "execution_count": 13,
     "metadata": {},
     "output_type": "execute_result"
    }
   ],
   "source": [
    "tx.configuration.DivertedChainBranchOne(num_rollout_steps=4)"
   ]
  },
  {
   "cell_type": "markdown",
   "metadata": {},
   "source": [
    "### Three-steps with branch length two\n",
    "\n",
    "<p align=\"center\">\n",
    "    <img src=\"https://fkoehler.site/predictor-learning-setups/div-3-2-true-primal.svg\" width=\"600\">\n",
    "</p>"
   ]
  },
  {
   "cell_type": "code",
   "execution_count": 14,
   "metadata": {},
   "outputs": [
    {
     "data": {
      "text/plain": [
       "DivertedChain(\n",
       "  num_rollout_steps=3,\n",
       "  num_branch_steps=2,\n",
       "  time_level_loss=MSELoss(batch_reduction=<function mean>),\n",
       "  cut_bptt=False,\n",
       "  cut_bptt_every=1,\n",
       "  cut_div_chain=False,\n",
       "  time_level_weights=f32[3],\n",
       "  branch_level_weights=f32[2]\n",
       ")"
      ]
     },
     "execution_count": 14,
     "metadata": {},
     "output_type": "execute_result"
    }
   ],
   "source": [
    "# Can only be done with the general interface\n",
    "tx.configuration.DivertedChain(num_rollout_steps=3, num_branch_steps=2)"
   ]
  },
  {
   "cell_type": "code",
   "execution_count": null,
   "metadata": {},
   "outputs": [],
   "source": [
    "# TODO: All the cutted versions ..."
   ]
  }
 ],
 "metadata": {
  "kernelspec": {
   "display_name": "base",
   "language": "python",
   "name": "python3"
  },
  "language_info": {
   "codemirror_mode": {
    "name": "ipython",
    "version": 3
   },
   "file_extension": ".py",
   "mimetype": "text/x-python",
   "name": "python",
   "nbconvert_exporter": "python",
   "pygments_lexer": "ipython3",
   "version": "3.10.9"
  }
 },
 "nbformat": 4,
 "nbformat_minor": 2
}
